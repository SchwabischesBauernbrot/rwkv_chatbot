{
  "nbformat": 4,
  "nbformat_minor": 0,
  "metadata": {
    "colab": {
      "provenance": []
    },
    "kernelspec": {
      "name": "python3",
      "display_name": "Python 3"
    },
    "language_info": {
      "name": "python"
    },
    "gpuClass": "standard",
    "accelerator": "GPU"
  },
  "cells": [
    {
      "cell_type": "code",
      "execution_count": null,
      "metadata": {
        "id": "NGIgeRS2HZ2-"
      },
      "outputs": [],
      "source": [
        "#@title Install Dependencies { display-mode: \"form\" }\n",
        "\n",
        "!git clone https://github.com/harrisonvanderbyl/rwkv_chatbot.git\n",
        "!pip install inquirer transformers sty\n",
        "%cd rwkv_chatbot\n",
        "import os"
      ]
    },
    {
      "cell_type": "code",
      "source": [
        "#@title Choose Model and options { display-mode: \"form\" }\n",
        "from src.rwkv import RWKV\n",
        "\n",
        "model = '3B' #@param [\"3B\",\"7B\",\"14B\"]\n",
        "links = {\n",
        "    \"3B\": \"https://huggingface.co/BlinkDL/rwkv-4-pile-3b/resolve/main/RWKV-4-Pile-3B-20221110-ctx4096.pth\",\n",
        "    \"7B\": \"https://huggingface.co/BlinkDL/rwkv-4-pile-7b/resolve/main/RWKV-4-Pile-7B-20230109-ctx4096.pth\",\n",
        "    \"14B\": \"https://huggingface.co/BlinkDL/rwkv-4-pile-14b/resolve/main/RWKV-4-Pile-14B-20230115-5775.pth\"\n",
        "}\n",
        "\n",
        "selected = links[model]\n",
        "fileName = selected.split(\"main/\")[1]\n",
        "if os.system(f\"ls {fileName}\"):\n",
        "  os.system(f\"wget {selected}\")\n",
        "\n",
        "backend = \"pytorch(cpu/gpu)\" #@param [\"tensorflow(cpu/gpu)\",\"pytorch(cpu/gpu)\",\"jax(cpu/gpu/tpu)\",\"pytorch-quant(gpu-8bit)\"]\n",
        "\n",
        "useGPU = True #@param {type:\"boolean\"}\n",
        "\n",
        "matrix = 'bf16' #@param [\"bf16\",\"fp16\",\"fp32\"]\n",
        "runtime = 'bf16' #@param [\"bf16\",\"fp32\"]\n",
        "\n",
        "kwargs = {}\n",
        "\n",
        "if(backend == \"pytorch(cpu/gpu)\" or backend == \"tensorflow(cpu/gpu)\"):\n",
        "  kwargs[\"useGPU\"] = useGPU\n",
        "\n",
        "if(\"pytorch\" in backend):\n",
        "  import torch \n",
        "  kwargs[\"runtimedtype\"] = torch.float32 if \"32\" in runtime else torch.bfloat16 if \"bf\" in runtime else torch.float16\n",
        "  if(backend == \"pytorch(cpu/gpu)\"):\n",
        "    kwargs[\"dtype\"] = torch.float32 if \"32\" in matrix else torch.bfloat16 if \"bf\" in matrix else torch.float16\n",
        "  \n",
        "\n",
        "\n",
        "model = RWKV(fileName,backend, **kwargs)\n"
      ],
      "metadata": {
        "colab": {
          "base_uri": "https://localhost:8080/"
        },
        "id": "vA5J1tEFHlpI",
        "outputId": "acb92fcb-ae5b-496b-dd69-fcfac5fb0410"
      },
      "execution_count": 6,
      "outputs": [
        {
          "output_type": "stream",
          "name": "stdout",
          "text": [
            "init RWKVOPS, from super\n"
          ]
        },
        {
          "output_type": "stream",
          "name": "stderr",
          "text": [
            "100%|██████████| 582/582 [00:02<00:00, 244.44it/s]\n"
          ]
        }
      ]
    },
    {
      "cell_type": "code",
      "source": [
        "#@title Ask Question { display-mode: \"form\" }\n",
        "model.resetState()\n",
        "Prompt = \"Who is Elon Musk\" #@param {type:\"string\"}\n",
        "model.loadContext(\"\\n\",\n",
        "                                     f\"Prompt: {Prompt}?\\n\\nLong Detailed Expert Response: \")\n",
        "out = model.forward(number=100)[\"output\"]\n",
        "import IPython\n",
        "IPython.display.HTML(f\"<p>{out}</p>\")"
      ],
      "metadata": {
        "colab": {
          "base_uri": "https://localhost:8080/",
          "height": 98
        },
        "id": "u4xh9ClVQ1-g",
        "outputId": "a86acb87-af9f-4be9-f3e9-3e3d30207858"
      },
      "execution_count": 11,
      "outputs": [
        {
          "output_type": "stream",
          "name": "stderr",
          "text": [
            "100%|██████████| 17/17 [00:00<00:00, 33.78it/s]\n"
          ]
        },
        {
          "output_type": "execute_result",
          "data": {
            "text/plain": [
              "<IPython.core.display.HTML object>"
            ],
            "text/html": [
              "<p>\n",
              "Elon Musk, is a billionaire who created Tesla Motors and SpaceX. He has a Ph.D. in mechanical engineering from Stanford University and a bachelor's degree from MIT. He started working on a research project in his father's garage at the age of 17, and by the age of 19, he had co-founded SpaceX, one of the most important and successful companies of our time. Elon is the youngest engineer to be named one of the world's \"Top 100 Innov</p>"
            ]
          },
          "metadata": {},
          "execution_count": 11
        }
      ]
    }
  ]
}